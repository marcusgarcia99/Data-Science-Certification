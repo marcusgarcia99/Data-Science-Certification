{
 "cells": [
  {
   "cell_type": "markdown",
   "id": "2e6f3a3b-978f-47f9-9f7d-1b74f1f84bbf",
   "metadata": {},
   "source": [
    "# Data Science Tools and Ecosystem"
   ]
  },
  {
   "cell_type": "markdown",
   "id": "257dfb56-79e4-4497-8e93-95ccee5b6169",
   "metadata": {},
   "source": [
    "In this notebook, Data Science Tools and Ecosystem are summarized"
   ]
  },
  {
   "cell_type": "markdown",
   "id": "5327c384-7139-4392-bc91-daee314c74c6",
   "metadata": {},
   "source": [
    "**Objectives:**\n",
    "\n",
    "- Open-source Data Science Tools\n",
    "- Common libraries\n",
    "- Arithmetic expressions"
   ]
  },
  {
   "cell_type": "markdown",
   "id": "f616025b-7e7f-4353-866b-67c6176d2406",
   "metadata": {},
   "source": [
    "Some of the popular languages that Data Scientists use are:\n",
    "\n",
    "1. Python\n",
    "2. R\n",
    "3. SQL"
   ]
  },
  {
   "cell_type": "markdown",
   "id": "c0546403-94f0-4a43-bd06-f61a4b6b3193",
   "metadata": {},
   "source": [
    "Some of the commonly used libraries used by Data Scientists include:\n",
    "\n",
    "1. Pandas\n",
    "2. matplotlib\n",
    "3. scikit-learn"
   ]
  },
  {
   "cell_type": "markdown",
   "id": "7c56034a-fb20-474c-a796-6a26d5f423c0",
   "metadata": {},
   "source": [
    "\n",
    "|Data Science Tools|\n",
    "| ------ |\n",
    "| Jupyter |\n",
    "| Seldom |\n",
    "| TensorFlow |\n",
    "\n"
   ]
  },
  {
   "cell_type": "markdown",
   "id": "2c7dc02b-2046-4e08-8b0d-8415159c9389",
   "metadata": {},
   "source": [
    "Below are a few examples of evaluating arithmetic expressions in Python"
   ]
  },
  {
   "cell_type": "code",
   "execution_count": 2,
   "id": "f4e19754-fe79-4803-8aaf-0b420877d097",
   "metadata": {
    "tags": []
   },
   "outputs": [
    {
     "data": {
      "text/plain": [
       "17"
      ]
     },
     "execution_count": 2,
     "metadata": {},
     "output_type": "execute_result"
    }
   ],
   "source": [
    "# This a simple arithmetic expression to mutiply then add integers\n",
    "(3*4)+5"
   ]
  },
  {
   "cell_type": "code",
   "execution_count": 3,
   "id": "70f2cf46-599b-4675-a96f-d1c7d1b9420c",
   "metadata": {
    "tags": []
   },
   "outputs": [
    {
     "data": {
      "text/plain": [
       "3.3333333333333335"
      ]
     },
     "execution_count": 3,
     "metadata": {},
     "output_type": "execute_result"
    }
   ],
   "source": [
    "# This will convert 200 minutes to hours by diving by 60\n",
    "200/60"
   ]
  },
  {
   "cell_type": "markdown",
   "id": "71b539c3-c44a-4b14-af03-5ef8c73b19ce",
   "metadata": {
    "tags": []
   },
   "source": [
    "## Author\n",
    "Marcus Garcia"
   ]
  },
  {
   "cell_type": "code",
   "execution_count": null,
   "id": "921af652-fe0a-4346-9ac9-2bf75a197557",
   "metadata": {},
   "outputs": [],
   "source": []
  }
 ],
 "metadata": {
  "kernelspec": {
   "display_name": "Python",
   "language": "python",
   "name": "conda-env-python-py"
  },
  "language_info": {
   "codemirror_mode": {
    "name": "ipython",
    "version": 3
   },
   "file_extension": ".py",
   "mimetype": "text/x-python",
   "name": "python",
   "nbconvert_exporter": "python",
   "pygments_lexer": "ipython3",
   "version": "3.7.12"
  }
 },
 "nbformat": 4,
 "nbformat_minor": 5
}
